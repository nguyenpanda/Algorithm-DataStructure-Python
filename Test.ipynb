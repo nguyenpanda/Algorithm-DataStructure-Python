{
 "cells": [
  {
   "cell_type": "code",
   "execution_count": 1,
   "id": "initial_id",
   "metadata": {
    "collapsed": true,
    "ExecuteTime": {
     "end_time": "2023-10-28T03:26:21.059212Z",
     "start_time": "2023-10-28T03:26:19.183759Z"
    }
   },
   "outputs": [],
   "source": [
    "import numpy as np\n",
    "import matplotlib.pyplot as plt"
   ]
  },
  {
   "cell_type": "code",
   "execution_count": 83,
   "outputs": [],
   "source": [
    "class Node:\n",
    "    NodeType = int | float | str\n",
    "    \n",
    "    def __init__(self, value: NodeType) -> None:\n",
    "        self.value = value\n",
    "    \n",
    "    @classmethod\n",
    "    def from_dict(cls, nodes: list | tuple | set | dict) -> set:\n",
    "        nodes_list: list = []\n",
    "        \n",
    "        if isinstance(nodes, set):\n",
    "            return nodes\n",
    "        \n",
    "        if isinstance(nodes, dict):\n",
    "            for pre_image, image in nodes.items(): \n",
    "                if pre_image not in nodes_list:\n",
    "                    nodes_list.append(pre_image)\n",
    "                if image not in nodes_list:\n",
    "                    nodes_list.append(image)\n",
    "        elif isinstance(nodes, list | tuple):\n",
    "            for element in nodes: \n",
    "                if element not in nodes_list:\n",
    "                    nodes_list.append(element)\n",
    "        else:\n",
    "            raise TypeError(f'Nodes type must be list | tuple | set | dict, got {type(nodes)}')\n",
    "        \n",
    "        return {element for element in nodes_list}\n",
    "    \n",
    "    def __str__(self) -> str:\n",
    "        return f'Node[{self.value}]'\n",
    "        \n",
    "class Graph:\n",
    "    graphType = int | float | str | Node | None\n",
    "    inputType = list[tuple[graphType]]\n",
    "    \n",
    "    def __init__(self, edges: inputType) -> None:\n",
    "        self.edges: Graph.inputType = edges\n",
    "        self.graph_dict: dict[Graph.graphType: list[Graph.graphType]] = {}\n",
    "        \n",
    "        for start, end in self.edges:\n",
    "            if start in self.graph_dict:\n",
    "                self.graph_dict[start].append(end)\n",
    "            else:\n",
    "                self.graph_dict[start] = [end]\n",
    "        \n",
    "    def paths(self, start: graphType, end: graphType, path=None):\n",
    "        if path is None:\n",
    "            path = []\n",
    "            \n",
    "        path = path + [start]\n",
    "        \n",
    "        if start == end:\n",
    "            return [path]\n",
    "        \n",
    "        if start not in self.graph_dict:\n",
    "            return []\n",
    "        \n",
    "        paths = []\n",
    "        \n",
    "        for node in self.graph_dict[start]:\n",
    "            if node not in path:\n",
    "                new_path = self.paths(node, end, path)\n",
    "                for p in new_path:\n",
    "                    paths.append(p)\n",
    "        \n",
    "        return paths\n",
    "    \n",
    "    def shortest_path(self, start: graphType, end: graphType) -> list:\n",
    "        paths = self.paths(start, end)\n",
    "        paths_length = [len(path) for path in paths]\n",
    "        min_length = min(paths_length)\n",
    "        \n",
    "        \n",
    "        \n",
    "        for each_path in paths_length:\n",
    "            if min_length == each_path:\n",
    "                \n",
    "        return []\n",
    "        \n",
    "        \n",
    "    \n",
    "    def __str__(self) -> str:\n",
    "        return f'Graph {self.graph_dict}'\n",
    "    \n",
    "    @classmethod\n",
    "    def graph_from_dict(cls, nodes: dict):\n",
    "        pass\n",
    "        "
   ],
   "metadata": {
    "collapsed": false,
    "ExecuteTime": {
     "end_time": "2023-10-28T05:44:21.005658Z",
     "start_time": "2023-10-28T05:44:20.993302Z"
    }
   },
   "id": "eeb5eab47c6f6e1c"
  },
  {
   "cell_type": "code",
   "execution_count": 84,
   "outputs": [
    {
     "name": "stdout",
     "output_type": "stream",
     "text": [
      "[['A', 'B', 'D'], ['A', 'B', 'C', 'D']]\n",
      "[(0, 3), (1, 4)]\n",
      "[]\n"
     ]
    }
   ],
   "source": [
    "ls = [\n",
    "    ('A', 'B'),\n",
    "    ('C', 'B'),\n",
    "    ('B', 'D'),\n",
    "    ('C', 'D'),\n",
    "    ('B', 'C'),\n",
    "]\n",
    "\n",
    "# for a, b in ls.items():\n",
    "#     print(a, b)\n",
    "graph = Graph(ls)\n",
    "print(graph.paths('A', 'D'))\n",
    "print(graph.shortest_path('A', 'D'))"
   ],
   "metadata": {
    "collapsed": false,
    "ExecuteTime": {
     "end_time": "2023-10-28T05:44:21.399744Z",
     "start_time": "2023-10-28T05:44:21.388749Z"
    }
   },
   "id": "a6b4a60ae9e5c6e5"
  },
  {
   "cell_type": "code",
   "execution_count": 27,
   "outputs": [],
   "source": [],
   "metadata": {
    "collapsed": false,
    "ExecuteTime": {
     "end_time": "2023-10-28T03:54:50.468826Z",
     "start_time": "2023-10-28T03:54:50.427808Z"
    }
   },
   "id": "185127c6b1e8dbc5"
  },
  {
   "cell_type": "code",
   "execution_count": null,
   "outputs": [],
   "source": [],
   "metadata": {
    "collapsed": false
   },
   "id": "5a98f14d3966056f"
  }
 ],
 "metadata": {
  "kernelspec": {
   "display_name": "Python 3",
   "language": "python",
   "name": "python3"
  },
  "language_info": {
   "codemirror_mode": {
    "name": "ipython",
    "version": 2
   },
   "file_extension": ".py",
   "mimetype": "text/x-python",
   "name": "python",
   "nbconvert_exporter": "python",
   "pygments_lexer": "ipython2",
   "version": "2.7.6"
  }
 },
 "nbformat": 4,
 "nbformat_minor": 5
}
