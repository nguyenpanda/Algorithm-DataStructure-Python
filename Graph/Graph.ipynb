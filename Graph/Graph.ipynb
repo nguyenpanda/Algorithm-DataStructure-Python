{
 "cells": [
  {
   "cell_type": "code",
   "execution_count": 1,
   "id": "initial_id",
   "metadata": {
    "collapsed": true,
    "ExecuteTime": {
     "end_time": "2023-10-29T12:03:28.342085Z",
     "start_time": "2023-10-29T12:03:26.831971Z"
    }
   },
   "outputs": [],
   "source": [
    "import numpy as np\n",
    "import matplotlib.pyplot as plt\n",
    "# from typing import Li"
   ]
  },
  {
   "cell_type": "code",
   "execution_count": 38,
   "outputs": [],
   "source": [
    "class Node:\n",
    "    \n",
    "    NodeType = int | float | str\n",
    "    \n",
    "    def __init__(self, name: NodeType):\n",
    "        self.name: Node.NodeType = name\n",
    "    \n",
    "    def __repr__(self) -> str:\n",
    "        return f'{self.__class__.__name__}[{self.name}]'\n",
    "    \n",
    "    def __str__(self) -> str:\n",
    "        return f'{self.__class__.__name__}[{self.name}]'\n",
    "    \n",
    "class DirectedGraph:\n",
    "    \n",
    "    weight = int | float\n",
    "    \n",
    "    def __init__(self, edges: set[Node : list]):\n",
    "        self.graph = edges\n",
    "        self.nodes: set[Node] = {}\n",
    "        for node, i in edges.items():\n",
    "            \n",
    "            \n",
    "    def __repr__(self) -> str:\n",
    "        return f'{self.__class__.__name__}}'"
   ],
   "metadata": {
    "collapsed": false,
    "ExecuteTime": {
     "end_time": "2023-10-29T13:09:04.995322Z",
     "start_time": "2023-10-29T13:09:04.986289Z"
    }
   },
   "id": "e613abb63136f80b"
  },
  {
   "cell_type": "code",
   "execution_count": 39,
   "outputs": [
    {
     "name": "stdout",
     "output_type": "stream",
     "text": [
      "Node[a] [[Node[b], 1]]\n",
      "Node[b] [[Node[c], 2], [Node[d], 3]]\n",
      "Node[c] [[Node[e], 4]]\n",
      "Node[d] [Node[g]]\n",
      "Node[e] [[Node[d], 5], [Node[f], 7]]\n",
      "Node[f] [[Node[d], 6]]\n"
     ]
    }
   ],
   "source": [
    "ls = {\n",
    "    'a': ['b', 'c'],\n",
    "    'b': ['d', 'g'],\n",
    "    'c': ['c', 'a'],\n",
    "}\n",
    "\n",
    "ls2 = {\n",
    "    Node('a'): [[Node('b'), 1]],\n",
    "    Node('b'): [[Node('c'), 2], [Node('d'), 3]],\n",
    "    Node('c'): [[Node('e'), 4]],\n",
    "    Node('d'): [Node('g')],\n",
    "    Node('e'): [[Node('d'), 5], [Node('f'), 7]],\n",
    "    Node('f'): [[Node('d'), 6]],\n",
    "}\n",
    "\n",
    "mn = {}\n",
    "# a = DirectedGraph(ls2)\n"
   ],
   "metadata": {
    "collapsed": false,
    "ExecuteTime": {
     "end_time": "2023-10-29T13:09:05.595801Z",
     "start_time": "2023-10-29T13:09:05.586954Z"
    }
   },
   "id": "8b3487dc7b170fbf"
  },
  {
   "cell_type": "code",
   "execution_count": null,
   "outputs": [],
   "source": [],
   "metadata": {
    "collapsed": false
   },
   "id": "db49b82cb5e1e941"
  }
 ],
 "metadata": {
  "kernelspec": {
   "display_name": "Python 3",
   "language": "python",
   "name": "python3"
  },
  "language_info": {
   "codemirror_mode": {
    "name": "ipython",
    "version": 2
   },
   "file_extension": ".py",
   "mimetype": "text/x-python",
   "name": "python",
   "nbconvert_exporter": "python",
   "pygments_lexer": "ipython2",
   "version": "2.7.6"
  }
 },
 "nbformat": 4,
 "nbformat_minor": 5
}
